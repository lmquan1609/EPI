{
 "cells": [
  {
   "cell_type": "markdown",
   "metadata": {},
   "source": [
    "## 5.1. Dutch Flag Partition"
   ]
  },
  {
   "cell_type": "code",
   "execution_count": 8,
   "metadata": {},
   "outputs": [],
   "source": [
    "def dutch_flag_partition(pivot_index, A):\n",
    "    pivot = A[pivot_index]\n",
    "    # First pass: group elements smaller than pivot.\n",
    "    for i in range(len(A)):\n",
    "        # Look for a smaller element.\n",
    "        for j in range(i + 1, len(A)):\n",
    "            if A[j] < pivot:\n",
    "                A[i], A[j] = A[j], A[i]\n",
    "                break\n",
    "    # Second pass: group elements larger than pivot.\n",
    "    for i in reversed(range(len(A))):\n",
    "        if A[i] < pivot:\n",
    "            break\n",
    "        print(f'i = {i}, A[i] = {A[i]}')\n",
    "        # Look for a larger element. Stop when we reach an element less than\n",
    "        # pivot, since first pass has moved them to the start of A.\n",
    "        for j in reversed(range(i)):\n",
    "            if A[j] > pivot:\n",
    "                print(f'i = {i}, A[i] = {A[i]}, j = {j}, A[j] = {A[j]}')\n",
    "                A[i], A[j] = A[j], A[i]\n",
    "                break"
   ]
  },
  {
   "cell_type": "code",
   "execution_count": 10,
   "metadata": {},
   "outputs": [],
   "source": [
    "def dutch_flag_partition(pivot_index, A):\n",
    "    pivot = A[pivot_index]\n",
    "    # First pass: group elements smaller than pivot.\n",
    "    smaller = 0\n",
    "    for i in range(len(A)):\n",
    "        if A[i] < pivot:\n",
    "            A[i], A[smaller] = A[smaller], A[i]\n",
    "            smaller += 1\n",
    "    # Second pass: group elements larger than pivot.\n",
    "    larger = len(A) - 1\n",
    "    for i in reversed(range(len(A))):\n",
    "        if A[i] < pivot:\n",
    "            break\n",
    "        elif A[i] > pivot:\n",
    "            A[i], A[larger] = A[larger], A[i]\n",
    "            larger -= 1"
   ]
  },
  {
   "cell_type": "code",
   "execution_count": 11,
   "metadata": {},
   "outputs": [
    {
     "data": {
      "text/plain": [
       "[1, 2, 4, 6, 3, 5]"
      ]
     },
     "execution_count": 11,
     "metadata": {},
     "output_type": "execute_result"
    }
   ],
   "source": [
    "A = [4, 1, 6, 3, 5, 2]\n",
    "dutch_flag_partition(-1, A)\n",
    "A"
   ]
  },
  {
   "cell_type": "markdown",
   "metadata": {},
   "source": [
    "## 5.2. Increment an arbitrary-precision integer"
   ]
  },
  {
   "cell_type": "code",
   "execution_count": 4,
   "metadata": {},
   "outputs": [],
   "source": [
    "def plus_one(A):\n",
    "    A[-1] += 1\n",
    "    for i in range(1, len(A))[::-1]:\n",
    "        if A[i] == 10:\n",
    "            A[i] = 0\n",
    "            A[i - 1] += 1\n",
    "            \n",
    "    if A[0] == 10:\n",
    "        A[0] = 1\n",
    "        A.append(0)\n",
    "    \n",
    "    return A"
   ]
  },
  {
   "cell_type": "code",
   "execution_count": 8,
   "metadata": {},
   "outputs": [
    {
     "name": "stdout",
     "output_type": "stream",
     "text": [
      "[1, 0, 0, 0]\n"
     ]
    }
   ],
   "source": [
    "A = [9, 9, 9]\n",
    "print(plus_one(A))"
   ]
  },
  {
   "cell_type": "markdown",
   "metadata": {},
   "source": [
    "## 5.3. Multiply an arbitrary-precision integers"
   ]
  },
  {
   "cell_type": "code",
   "execution_count": 45,
   "metadata": {},
   "outputs": [],
   "source": [
    "def multiply(A_1, A_2):\n",
    "    sign = -1 if A_1[0] < 0 or A_2[0] < 0 else 1\n",
    "    A_1[0], A_2[0] = abs(A_1[0]), abs(A_2[0])\n",
    "    \n",
    "    A_res = [0] * (len(A_1) + len(A_2))\n",
    "    for i in range(len(A_1))[::-1]:\n",
    "        for j in range(len(A_2))[::-1]:\n",
    "            A_res[i + j + 1] += A_1[i] * A_2[j]\n",
    "            A_res[i + j] += A_res[i + j + 1] // 10\n",
    "            A_res[i + j + 1] = A_res[i + j + 1] % 10\n",
    "    \n",
    "    A_res = A_res[next((i for i, x in enumerate(A_res) if x != 0), 0):]\n",
    "    A_res[0] = sign * A_res[0]\n",
    "    \n",
    "    return A_res"
   ]
  },
  {
   "cell_type": "code",
   "execution_count": 47,
   "metadata": {},
   "outputs": [
    {
     "name": "stdout",
     "output_type": "stream",
     "text": [
      "[-1, 4, 7, 5, 7, 3, 9, 5, 2, 5, 8, 9, 6, 7, 6, 4, 1, 2, 9, 2, 7]\n"
     ]
    }
   ],
   "source": [
    "A_1 = [1, 9, 3, 7, 0, 7, 7, 2, 1]\n",
    "A_2 = [-7, 6, 1, 8, 3, 8, 2, 5, 7, 2, 8, 7]\n",
    "print(multiply(A_1, A_2))"
   ]
  },
  {
   "cell_type": "markdown",
   "metadata": {},
   "source": [
    "## 5.4. Advancing through an array"
   ]
  },
  {
   "cell_type": "code",
   "execution_count": 58,
   "metadata": {},
   "outputs": [],
   "source": [
    "def can_reach_end(A):\n",
    "    furthest_reach = 0\n",
    "    i = 0\n",
    "    while i <= furthest_reach and furthest_reach <= len(A) - 1:\n",
    "        furthest_reach = max(furthest_reach, i + A[i])\n",
    "        i += 1\n",
    "    return 'Can reach' if furthest_reach >= len(A) - 1 else 'Cannot reach'"
   ]
  },
  {
   "cell_type": "code",
   "execution_count": 61,
   "metadata": {},
   "outputs": [
    {
     "name": "stdout",
     "output_type": "stream",
     "text": [
      "Can reach\n",
      "Cannot reach\n"
     ]
    }
   ],
   "source": [
    "print(can_reach_end([3, 3, 7, 0, 2, 0, 1]))\n",
    "print(can_reach_end([3, 2, 0, 0, 2, 0, 1]))"
   ]
  },
  {
   "cell_type": "markdown",
   "metadata": {},
   "source": [
    "## 5.5. Delete duplicates from a sorted array"
   ]
  },
  {
   "cell_type": "code",
   "execution_count": 65,
   "metadata": {},
   "outputs": [],
   "source": [
    "def delete_duplicates(A):\n",
    "    if not A:\n",
    "        return 0\n",
    "\n",
    "    write_index = 1\n",
    "    for i in range(1, len(A)):\n",
    "        if A[write_index - 1] != A[i]:\n",
    "            A[write_index] = A[i]\n",
    "            write_index += 1\n",
    "    return A[:write_index]"
   ]
  },
  {
   "cell_type": "code",
   "execution_count": 68,
   "metadata": {},
   "outputs": [
    {
     "name": "stdout",
     "output_type": "stream",
     "text": [
      "[2, 3, 5, 7, 11, 13]\n"
     ]
    }
   ],
   "source": [
    "A = [2, 3, 5, 5, 7, 7, 7, 11, 13]\n",
    "print(delete_duplicates(A))"
   ]
  },
  {
   "cell_type": "markdown",
   "metadata": {},
   "source": [
    "## 5.6. Buy and sell a stock once"
   ]
  },
  {
   "cell_type": "code",
   "execution_count": 79,
   "metadata": {},
   "outputs": [],
   "source": [
    "def buy_and_sell_stock_once(prices):\n",
    "    former, max_profit = 0, 0\n",
    "    \n",
    "    for latter in range(1, len(prices)):\n",
    "        if prices[latter] < prices[former]:\n",
    "            former = latter\n",
    "        else:\n",
    "            max_profit = max(max_profit, prices[latter] - prices[former])\n",
    "        print(prices[latter], prices[former])\n",
    "            \n",
    "    return max_profit"
   ]
  },
  {
   "cell_type": "code",
   "execution_count": 1,
   "metadata": {},
   "outputs": [],
   "source": [
    "def buy_and_sell_stock_once(prices):\n",
    "    min_price_so_far, max_profit = float('inf'), 0\n",
    "    for price in prices:\n",
    "        max_profit_currently = price - min_price_so_far\n",
    "        max_profit = max(max_profit_currently, max_profit)\n",
    "        min_price_so_far = min(min_price_so_far, price)\n",
    "        \n",
    "    return max_profit"
   ]
  },
  {
   "cell_type": "code",
   "execution_count": 2,
   "metadata": {},
   "outputs": [
    {
     "name": "stdout",
     "output_type": "stream",
     "text": [
      "30\n"
     ]
    }
   ],
   "source": [
    "print(buy_and_sell_stock_once([310, 315, 275, 295, 260, 270, 290, 230, 255, 250]))"
   ]
  },
  {
   "cell_type": "markdown",
   "metadata": {},
   "source": [
    "## 5.7. Buy and sell a stock twice"
   ]
  },
  {
   "cell_type": "code",
   "execution_count": 13,
   "metadata": {},
   "outputs": [],
   "source": [
    "def buy_and_sell_stock_twice(prices):\n",
    "    min_price_so_far, max_profit = float('inf'), 0\n",
    "    once = []\n",
    "    for price in prices:\n",
    "        max_profit_currently = price - min_price_so_far\n",
    "        max_profit = max(max_profit, max_profit_currently)\n",
    "        once.append(max_profit)\n",
    "        min_price_so_far = min(min_price_so_far, price)\n",
    "    \n",
    "    max_price_so_far, max_profit = prices[-1], 0\n",
    "    for i in range(1, len(prices) - 1)[::-1]:\n",
    "        max_profit_currently = max_price_so_far - prices[i]\n",
    "        max_profit = max(max_profit, once[i - 1] + max_profit_currently)\n",
    "        max_price_so_far = max(max_price_so_far, prices[i])\n",
    "    \n",
    "    return max_profit"
   ]
  },
  {
   "cell_type": "code",
   "execution_count": 14,
   "metadata": {},
   "outputs": [
    {
     "name": "stdout",
     "output_type": "stream",
     "text": [
      "10\n"
     ]
    }
   ],
   "source": [
    "print(buy_and_sell_stock_twice([12, 11, 13, 9, 12, 8, 14, 13, 15]))"
   ]
  },
  {
   "cell_type": "markdown",
   "metadata": {},
   "source": [
    "## 5.8. Computing an alternation"
   ]
  },
  {
   "cell_type": "code",
   "execution_count": 16,
   "metadata": {},
   "outputs": [],
   "source": [
    "def rearrange(A):\n",
    "    for i in range(len(A)):\n",
    "        A[i:i + 2] = sorted(A[i:i + 2], reverse=i % 2)\n",
    "    return A"
   ]
  },
  {
   "cell_type": "code",
   "execution_count": 17,
   "metadata": {},
   "outputs": [
    {
     "name": "stdout",
     "output_type": "stream",
     "text": [
      "[4, 5, 2, 8, 1, 7, 3, 6, 1, 4, 2]\n"
     ]
    }
   ],
   "source": [
    "print(rearrange([5, 4, 2, 8, 1, 7, 6, 3, 4, 1, 2]))"
   ]
  },
  {
   "cell_type": "markdown",
   "metadata": {},
   "source": [
    "## 5.9. Enumerate all primes to n"
   ]
  },
  {
   "cell_type": "code",
   "execution_count": 32,
   "metadata": {},
   "outputs": [],
   "source": [
    "def generate_primes(n):\n",
    "    primes = [1] * (n + 1)\n",
    "    primes[0] = primes[1] = 0\n",
    "    \n",
    "    for i in range(2, n + 1):\n",
    "        if primes[i] == 1:\n",
    "            for j in range(i * 2, n + 1, i):\n",
    "                primes[j] = 0\n",
    "                \n",
    "    return [i for i, prime in enumerate(primes) if prime == 1]"
   ]
  },
  {
   "cell_type": "code",
   "execution_count": 33,
   "metadata": {},
   "outputs": [
    {
     "name": "stdout",
     "output_type": "stream",
     "text": [
      "[2, 3, 5, 7, 11, 13, 17]\n"
     ]
    }
   ],
   "source": [
    "print(generate_primes(18))"
   ]
  },
  {
   "cell_type": "markdown",
   "metadata": {},
   "source": [
    "## 5.11. Next permutation"
   ]
  },
  {
   "cell_type": "code",
   "execution_count": null,
   "metadata": {},
   "outputs": [],
   "source": [
    "def next_permutation(perm):\n",
    "    "
   ]
  }
 ],
 "metadata": {
  "kernelspec": {
   "display_name": "Python 3",
   "language": "python",
   "name": "python3"
  },
  "language_info": {
   "codemirror_mode": {
    "name": "ipython",
    "version": 3
   },
   "file_extension": ".py",
   "mimetype": "text/x-python",
   "name": "python",
   "nbconvert_exporter": "python",
   "pygments_lexer": "ipython3",
   "version": "3.7.1"
  }
 },
 "nbformat": 4,
 "nbformat_minor": 2
}
